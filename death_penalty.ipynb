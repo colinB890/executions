{
 "cells": [
  {
   "cell_type": "code",
   "execution_count": 1,
   "metadata": {},
   "outputs": [],
   "source": [
    "import pandas as pd\n",
    "import folium\n",
    "import numpy as np\n",
    "import matplotlib.pyplot as plt\n",
    "\n"
   ]
  },
  {
   "cell_type": "code",
   "execution_count": null,
   "metadata": {},
   "outputs": [],
   "source": []
  },
  {
   "cell_type": "code",
   "execution_count": 2,
   "metadata": {},
   "outputs": [],
   "source": [
    "def get_data(name,lim):\n",
    "    \n",
    "   df = pd.read_csv(name)\n",
    "   return df "
   ]
  },
  {
   "cell_type": "code",
   "execution_count": 3,
   "metadata": {},
   "outputs": [],
   "source": [
    "#LOAD DATABASE\n",
    "\n",
    "df = get_data('execution_database.csv',1)\n"
   ]
  },
  {
   "cell_type": "code",
   "execution_count": 4,
   "metadata": {},
   "outputs": [
    {
     "data": {
      "text/plain": [
       "12/09/1999    4\n",
       "08/28/1987    3\n",
       "04/22/1998    3\n",
       "03/15/2000    3\n",
       "06/26/2007    3\n",
       "Name: Date, dtype: int64"
      ]
     },
     "execution_count": 4,
     "metadata": {},
     "output_type": "execute_result"
    }
   ],
   "source": [
    "#gapminder[loc1,'continent'].value_counts()\n",
    "df['Date'].value_counts().head()"
   ]
  },
  {
   "cell_type": "code",
   "execution_count": 7,
   "metadata": {},
   "outputs": [
    {
     "data": {
      "text/plain": [
       "Age    83\n",
       "dtype: int64"
      ]
     },
     "execution_count": 7,
     "metadata": {},
     "output_type": "execute_result"
    }
   ],
   "source": [
    "#OLDEST PERSON EXECUTED OVERALL\n",
    "\n",
    "oldest = df.max()\n",
    "\n",
    "oldest\n",
    "\n"
   ]
  },
  {
   "cell_type": "code",
   "execution_count": 8,
   "metadata": {},
   "outputs": [
    {
     "data": {
      "text/html": [
       "<div>\n",
       "<style scoped>\n",
       "    .dataframe tbody tr th:only-of-type {\n",
       "        vertical-align: middle;\n",
       "    }\n",
       "\n",
       "    .dataframe tbody tr th {\n",
       "        vertical-align: top;\n",
       "    }\n",
       "\n",
       "    .dataframe thead th {\n",
       "        text-align: right;\n",
       "    }\n",
       "</style>\n",
       "<table border=\"1\" class=\"dataframe\">\n",
       "  <thead>\n",
       "    <tr style=\"text-align: right;\">\n",
       "      <th></th>\n",
       "      <th>Date</th>\n",
       "      <th>Name</th>\n",
       "      <th>Age</th>\n",
       "      <th>Sex</th>\n",
       "      <th>Race</th>\n",
       "      <th>Victim_Race_Sex</th>\n",
       "      <th>State</th>\n",
       "      <th>Region</th>\n",
       "      <th>Method</th>\n",
       "      <th>Juvenile</th>\n",
       "      <th>Federal</th>\n",
       "      <th>Volunteer</th>\n",
       "      <th>Foreign National</th>\n",
       "      <th>County</th>\n",
       "    </tr>\n",
       "  </thead>\n",
       "  <tbody>\n",
       "    <tr>\n",
       "      <th>270</th>\n",
       "      <td>01/24/1989</td>\n",
       "      <td>Theodore Bundy</td>\n",
       "      <td>42</td>\n",
       "      <td>m</td>\n",
       "      <td>White</td>\n",
       "      <td>1 White Female(s)</td>\n",
       "      <td>FL</td>\n",
       "      <td>S</td>\n",
       "      <td>Electrocution</td>\n",
       "      <td>No</td>\n",
       "      <td>No</td>\n",
       "      <td>No</td>\n",
       "      <td>No</td>\n",
       "      <td>Columbia</td>\n",
       "    </tr>\n",
       "  </tbody>\n",
       "</table>\n",
       "</div>"
      ],
      "text/plain": [
       "           Date            Name  Age Sex   Race    Victim_Race_Sex State  \\\n",
       "270  01/24/1989  Theodore Bundy   42   m  White  1 White Female(s)    FL   \n",
       "\n",
       "    Region         Method Juvenile Federal Volunteer Foreign National  \\\n",
       "270      S  Electrocution       No      No        No               No   \n",
       "\n",
       "       County  \n",
       "270  Columbia  "
      ]
     },
     "execution_count": 8,
     "metadata": {},
     "output_type": "execute_result"
    }
   ],
   "source": [
    "#df[df['A'].str.contains(\"hello\")]\n",
    "#SEARCH FOR PART OF NAME\n",
    "name = df.loc[df['Name'].str.contains('Bundy')]\n",
    "name"
   ]
  },
  {
   "cell_type": "code",
   "execution_count": 23,
   "metadata": {},
   "outputs": [
    {
     "data": {
      "text/html": [
       "<div>\n",
       "<style scoped>\n",
       "    .dataframe tbody tr th:only-of-type {\n",
       "        vertical-align: middle;\n",
       "    }\n",
       "\n",
       "    .dataframe tbody tr th {\n",
       "        vertical-align: top;\n",
       "    }\n",
       "\n",
       "    .dataframe thead th {\n",
       "        text-align: right;\n",
       "    }\n",
       "</style>\n",
       "<table border=\"1\" class=\"dataframe\">\n",
       "  <thead>\n",
       "    <tr style=\"text-align: right;\">\n",
       "      <th></th>\n",
       "      <th>Date</th>\n",
       "      <th>Name</th>\n",
       "      <th>Age</th>\n",
       "      <th>Sex</th>\n",
       "      <th>Race</th>\n",
       "      <th>Victim_Race_Sex</th>\n",
       "      <th>State</th>\n",
       "      <th>Region</th>\n",
       "      <th>Method</th>\n",
       "      <th>Juvenile</th>\n",
       "      <th>Federal</th>\n",
       "      <th>Volunteer</th>\n",
       "      <th>Foreign National</th>\n",
       "      <th>County</th>\n",
       "    </tr>\n",
       "  </thead>\n",
       "  <tbody>\n",
       "    <tr>\n",
       "      <th>0</th>\n",
       "      <td>01/10/1986</td>\n",
       "      <td>James Roach</td>\n",
       "      <td>25</td>\n",
       "      <td>m</td>\n",
       "      <td>White</td>\n",
       "      <td>1 White Male(s)1 White Female(s)</td>\n",
       "      <td>SC</td>\n",
       "      <td>S</td>\n",
       "      <td>Electrocution</td>\n",
       "      <td>Yes</td>\n",
       "      <td>No</td>\n",
       "      <td>No</td>\n",
       "      <td>No</td>\n",
       "      <td>Richland</td>\n",
       "    </tr>\n",
       "    <tr>\n",
       "      <th>1</th>\n",
       "      <td>01/11/1985</td>\n",
       "      <td>Joseph Shaw</td>\n",
       "      <td>29</td>\n",
       "      <td>m</td>\n",
       "      <td>White</td>\n",
       "      <td>1 White Male(s)1 White Female(s)</td>\n",
       "      <td>SC</td>\n",
       "      <td>S</td>\n",
       "      <td>Electrocution</td>\n",
       "      <td>No</td>\n",
       "      <td>No</td>\n",
       "      <td>No</td>\n",
       "      <td>No</td>\n",
       "      <td>Richland</td>\n",
       "    </tr>\n",
       "    <tr>\n",
       "      <th>4</th>\n",
       "      <td>01/06/1994</td>\n",
       "      <td>Keith Wells</td>\n",
       "      <td>31</td>\n",
       "      <td>m</td>\n",
       "      <td>White</td>\n",
       "      <td>1 White Male(s)1 White Female(s)</td>\n",
       "      <td>ID</td>\n",
       "      <td>W</td>\n",
       "      <td>Lethal Injection</td>\n",
       "      <td>No</td>\n",
       "      <td>No</td>\n",
       "      <td>Yes</td>\n",
       "      <td>No</td>\n",
       "      <td>Ada</td>\n",
       "    </tr>\n",
       "    <tr>\n",
       "      <th>6</th>\n",
       "      <td>01/12/2000</td>\n",
       "      <td>Earl Heiselbertz</td>\n",
       "      <td>48</td>\n",
       "      <td>m</td>\n",
       "      <td>White</td>\n",
       "      <td>2 White Female(s)</td>\n",
       "      <td>TX</td>\n",
       "      <td>S</td>\n",
       "      <td>Lethal Injection</td>\n",
       "      <td>No</td>\n",
       "      <td>No</td>\n",
       "      <td>No</td>\n",
       "      <td>No</td>\n",
       "      <td>Sabine</td>\n",
       "    </tr>\n",
       "    <tr>\n",
       "      <th>8</th>\n",
       "      <td>01/04/1985</td>\n",
       "      <td>David Martin</td>\n",
       "      <td>32</td>\n",
       "      <td>m</td>\n",
       "      <td>White</td>\n",
       "      <td>2 White Male(s)2 White Female(s)</td>\n",
       "      <td>LA</td>\n",
       "      <td>S</td>\n",
       "      <td>Electrocution</td>\n",
       "      <td>No</td>\n",
       "      <td>No</td>\n",
       "      <td>No</td>\n",
       "      <td>No</td>\n",
       "      <td>Lafourche Parish</td>\n",
       "    </tr>\n",
       "  </tbody>\n",
       "</table>\n",
       "</div>"
      ],
      "text/plain": [
       "         Date              Name  Age Sex   Race  \\\n",
       "0  01/10/1986       James Roach   25   m  White   \n",
       "1  01/11/1985       Joseph Shaw   29   m  White   \n",
       "4  01/06/1994       Keith Wells   31   m  White   \n",
       "6  01/12/2000  Earl Heiselbertz   48   m  White   \n",
       "8  01/04/1985      David Martin   32   m  White   \n",
       "\n",
       "                    Victim_Race_Sex State Region            Method Juvenile  \\\n",
       "0  1 White Male(s)1 White Female(s)    SC      S     Electrocution      Yes   \n",
       "1  1 White Male(s)1 White Female(s)    SC      S     Electrocution       No   \n",
       "4  1 White Male(s)1 White Female(s)    ID      W  Lethal Injection       No   \n",
       "6                 2 White Female(s)    TX      S  Lethal Injection       No   \n",
       "8  2 White Male(s)2 White Female(s)    LA      S     Electrocution       No   \n",
       "\n",
       "  Federal Volunteer Foreign National            County  \n",
       "0      No        No               No          Richland  \n",
       "1      No        No               No          Richland  \n",
       "4      No       Yes               No               Ada  \n",
       "6      No        No               No            Sabine  \n",
       "8      No        No               No  Lafourche Parish  "
      ]
     },
     "execution_count": 23,
     "metadata": {},
     "output_type": "execute_result"
    }
   ],
   "source": [
    "#SEARCH WHERE VICTIM(S) WERE FEMALE\n",
    "victim = df.loc[df['Victim_Race_Sex'].str.contains(\"Female\") == True]\n",
    "victim.head()"
   ]
  },
  {
   "cell_type": "code",
   "execution_count": 85,
   "metadata": {},
   "outputs": [
    {
     "data": {
      "text/html": [
       "<div>\n",
       "<style scoped>\n",
       "    .dataframe tbody tr th:only-of-type {\n",
       "        vertical-align: middle;\n",
       "    }\n",
       "\n",
       "    .dataframe tbody tr th {\n",
       "        vertical-align: top;\n",
       "    }\n",
       "\n",
       "    .dataframe thead th {\n",
       "        text-align: right;\n",
       "    }\n",
       "</style>\n",
       "<table border=\"1\" class=\"dataframe\">\n",
       "  <thead>\n",
       "    <tr style=\"text-align: right;\">\n",
       "      <th></th>\n",
       "      <th>Date</th>\n",
       "      <th>Name</th>\n",
       "      <th>Age</th>\n",
       "      <th>Sex</th>\n",
       "      <th>Race</th>\n",
       "      <th>Victim_Race_Sex</th>\n",
       "      <th>State</th>\n",
       "      <th>Region</th>\n",
       "      <th>Method</th>\n",
       "      <th>Juvenile</th>\n",
       "      <th>Federal</th>\n",
       "      <th>Volunteer</th>\n",
       "      <th>Foreign National</th>\n",
       "      <th>County</th>\n",
       "    </tr>\n",
       "  </thead>\n",
       "  <tbody>\n",
       "    <tr>\n",
       "      <th>0</th>\n",
       "      <td>01/10/1986</td>\n",
       "      <td>James Roach</td>\n",
       "      <td>25</td>\n",
       "      <td>m</td>\n",
       "      <td>White</td>\n",
       "      <td>1 White Male(s)1 White Female(s)</td>\n",
       "      <td>SC</td>\n",
       "      <td>S</td>\n",
       "      <td>Electrocution</td>\n",
       "      <td>Yes</td>\n",
       "      <td>No</td>\n",
       "      <td>No</td>\n",
       "      <td>No</td>\n",
       "      <td>Richland</td>\n",
       "    </tr>\n",
       "    <tr>\n",
       "      <th>1</th>\n",
       "      <td>01/11/1985</td>\n",
       "      <td>Joseph Shaw</td>\n",
       "      <td>29</td>\n",
       "      <td>m</td>\n",
       "      <td>White</td>\n",
       "      <td>1 White Male(s)1 White Female(s)</td>\n",
       "      <td>SC</td>\n",
       "      <td>S</td>\n",
       "      <td>Electrocution</td>\n",
       "      <td>No</td>\n",
       "      <td>No</td>\n",
       "      <td>No</td>\n",
       "      <td>No</td>\n",
       "      <td>Richland</td>\n",
       "    </tr>\n",
       "    <tr>\n",
       "      <th>8</th>\n",
       "      <td>01/04/1985</td>\n",
       "      <td>David Martin</td>\n",
       "      <td>32</td>\n",
       "      <td>m</td>\n",
       "      <td>White</td>\n",
       "      <td>2 White Male(s)2 White Female(s)</td>\n",
       "      <td>LA</td>\n",
       "      <td>S</td>\n",
       "      <td>Electrocution</td>\n",
       "      <td>No</td>\n",
       "      <td>No</td>\n",
       "      <td>No</td>\n",
       "      <td>No</td>\n",
       "      <td>Lafourche Parish</td>\n",
       "    </tr>\n",
       "    <tr>\n",
       "      <th>14</th>\n",
       "      <td>01/09/1985</td>\n",
       "      <td>Roosevelt Green</td>\n",
       "      <td>28</td>\n",
       "      <td>m</td>\n",
       "      <td>Black</td>\n",
       "      <td>1 White Female(s)</td>\n",
       "      <td>GA</td>\n",
       "      <td>S</td>\n",
       "      <td>Electrocution</td>\n",
       "      <td>No</td>\n",
       "      <td>No</td>\n",
       "      <td>No</td>\n",
       "      <td>No</td>\n",
       "      <td>Brooks</td>\n",
       "    </tr>\n",
       "    <tr>\n",
       "      <th>20</th>\n",
       "      <td>01/10/1997</td>\n",
       "      <td>Billy Waldrop</td>\n",
       "      <td>44</td>\n",
       "      <td>m</td>\n",
       "      <td>White</td>\n",
       "      <td>1 White Male(s)</td>\n",
       "      <td>AL</td>\n",
       "      <td>S</td>\n",
       "      <td>Electrocution</td>\n",
       "      <td>No</td>\n",
       "      <td>No</td>\n",
       "      <td>No</td>\n",
       "      <td>No</td>\n",
       "      <td>Talladega</td>\n",
       "    </tr>\n",
       "  </tbody>\n",
       "</table>\n",
       "</div>"
      ],
      "text/plain": [
       "          Date             Name  Age Sex   Race  \\\n",
       "0   01/10/1986      James Roach   25   m  White   \n",
       "1   01/11/1985      Joseph Shaw   29   m  White   \n",
       "8   01/04/1985     David Martin   32   m  White   \n",
       "14  01/09/1985  Roosevelt Green   28   m  Black   \n",
       "20  01/10/1997    Billy Waldrop   44   m  White   \n",
       "\n",
       "                     Victim_Race_Sex State Region         Method Juvenile  \\\n",
       "0   1 White Male(s)1 White Female(s)    SC      S  Electrocution      Yes   \n",
       "1   1 White Male(s)1 White Female(s)    SC      S  Electrocution       No   \n",
       "8   2 White Male(s)2 White Female(s)    LA      S  Electrocution       No   \n",
       "14                 1 White Female(s)    GA      S  Electrocution       No   \n",
       "20                   1 White Male(s)    AL      S  Electrocution       No   \n",
       "\n",
       "   Federal Volunteer Foreign National            County  \n",
       "0       No        No               No          Richland  \n",
       "1       No        No               No          Richland  \n",
       "8       No        No               No  Lafourche Parish  \n",
       "14      No        No               No            Brooks  \n",
       "20      No        No               No         Talladega  "
      ]
     },
     "execution_count": 85,
     "metadata": {},
     "output_type": "execute_result"
    }
   ],
   "source": [
    "#SEARCH WHERE METHOD WAS ELECTROCUTION\n",
    "elec = df.loc[df['Method'] == 'Electrocution']\n",
    "elec.head()"
   ]
  },
  {
   "cell_type": "code",
   "execution_count": 24,
   "metadata": {},
   "outputs": [
    {
     "name": "stderr",
     "output_type": "stream",
     "text": [
      "/anaconda3/lib/python3.7/site-packages/ipykernel_launcher.py:2: UserWarning: Boolean Series key will be reindexed to match DataFrame index.\n",
      "  \n"
     ]
    },
    {
     "data": {
      "text/html": [
       "<div>\n",
       "<style scoped>\n",
       "    .dataframe tbody tr th:only-of-type {\n",
       "        vertical-align: middle;\n",
       "    }\n",
       "\n",
       "    .dataframe tbody tr th {\n",
       "        vertical-align: top;\n",
       "    }\n",
       "\n",
       "    .dataframe thead th {\n",
       "        text-align: right;\n",
       "    }\n",
       "</style>\n",
       "<table border=\"1\" class=\"dataframe\">\n",
       "  <thead>\n",
       "    <tr style=\"text-align: right;\">\n",
       "      <th></th>\n",
       "      <th>Date</th>\n",
       "      <th>Name</th>\n",
       "      <th>Age</th>\n",
       "      <th>Sex</th>\n",
       "      <th>Race</th>\n",
       "      <th>Victim_Race_Sex</th>\n",
       "      <th>State</th>\n",
       "      <th>Region</th>\n",
       "      <th>Method</th>\n",
       "      <th>Juvenile</th>\n",
       "      <th>Federal</th>\n",
       "      <th>Volunteer</th>\n",
       "      <th>Foreign National</th>\n",
       "      <th>County</th>\n",
       "    </tr>\n",
       "  </thead>\n",
       "  <tbody>\n",
       "    <tr>\n",
       "      <th>103</th>\n",
       "      <td>05/02/1997</td>\n",
       "      <td>Walter Hill</td>\n",
       "      <td>62</td>\n",
       "      <td>m</td>\n",
       "      <td>Black</td>\n",
       "      <td>2 Black Male(s)1 Black Female(s)</td>\n",
       "      <td>AL</td>\n",
       "      <td>S</td>\n",
       "      <td>Electrocution</td>\n",
       "      <td>No</td>\n",
       "      <td>No</td>\n",
       "      <td>No</td>\n",
       "      <td>No</td>\n",
       "      <td>Jefferson</td>\n",
       "    </tr>\n",
       "    <tr>\n",
       "      <th>111</th>\n",
       "      <td>05/05/1999</td>\n",
       "      <td>Clydell Coleman</td>\n",
       "      <td>62</td>\n",
       "      <td>m</td>\n",
       "      <td>Black</td>\n",
       "      <td>1 Black Female(s)</td>\n",
       "      <td>TX</td>\n",
       "      <td>S</td>\n",
       "      <td>Lethal Injection</td>\n",
       "      <td>No</td>\n",
       "      <td>No</td>\n",
       "      <td>No</td>\n",
       "      <td>No</td>\n",
       "      <td>McLennan</td>\n",
       "    </tr>\n",
       "    <tr>\n",
       "      <th>190</th>\n",
       "      <td>07/02/2003</td>\n",
       "      <td>Hilton Crawford</td>\n",
       "      <td>64</td>\n",
       "      <td>m</td>\n",
       "      <td>White</td>\n",
       "      <td>1 White Male(s)</td>\n",
       "      <td>TX</td>\n",
       "      <td>S</td>\n",
       "      <td>Lethal Injection</td>\n",
       "      <td>No</td>\n",
       "      <td>No</td>\n",
       "      <td>No</td>\n",
       "      <td>No</td>\n",
       "      <td>Montgomery</td>\n",
       "    </tr>\n",
       "    <tr>\n",
       "      <th>267</th>\n",
       "      <td>01/26/1984</td>\n",
       "      <td>Anthony Antone</td>\n",
       "      <td>66</td>\n",
       "      <td>m</td>\n",
       "      <td>White</td>\n",
       "      <td>1 White Male(s)</td>\n",
       "      <td>FL</td>\n",
       "      <td>S</td>\n",
       "      <td>Electrocution</td>\n",
       "      <td>No</td>\n",
       "      <td>No</td>\n",
       "      <td>No</td>\n",
       "      <td>No</td>\n",
       "      <td>Hillsborough</td>\n",
       "    </tr>\n",
       "    <tr>\n",
       "      <th>297</th>\n",
       "      <td>01/24/2002</td>\n",
       "      <td>Ronald Spivey</td>\n",
       "      <td>62</td>\n",
       "      <td>m</td>\n",
       "      <td>White</td>\n",
       "      <td>1 White Male(s)</td>\n",
       "      <td>GA</td>\n",
       "      <td>S</td>\n",
       "      <td>Lethal Injection</td>\n",
       "      <td>No</td>\n",
       "      <td>No</td>\n",
       "      <td>No</td>\n",
       "      <td>No</td>\n",
       "      <td>Muscogee</td>\n",
       "    </tr>\n",
       "  </tbody>\n",
       "</table>\n",
       "</div>"
      ],
      "text/plain": [
       "           Date             Name  Age Sex   Race  \\\n",
       "103  05/02/1997      Walter Hill   62   m  Black   \n",
       "111  05/05/1999  Clydell Coleman   62   m  Black   \n",
       "190  07/02/2003  Hilton Crawford   64   m  White   \n",
       "267  01/26/1984   Anthony Antone   66   m  White   \n",
       "297  01/24/2002    Ronald Spivey   62   m  White   \n",
       "\n",
       "                      Victim_Race_Sex State Region            Method Juvenile  \\\n",
       "103  2 Black Male(s)1 Black Female(s)    AL      S     Electrocution       No   \n",
       "111                 1 Black Female(s)    TX      S  Lethal Injection       No   \n",
       "190                   1 White Male(s)    TX      S  Lethal Injection       No   \n",
       "267                   1 White Male(s)    FL      S     Electrocution       No   \n",
       "297                   1 White Male(s)    GA      S  Lethal Injection       No   \n",
       "\n",
       "    Federal Volunteer Foreign National        County  \n",
       "103      No        No               No     Jefferson  \n",
       "111      No        No               No      McLennan  \n",
       "190      No        No               No    Montgomery  \n",
       "267      No        No               No  Hillsborough  \n",
       "297      No        No               No      Muscogee  "
      ]
     },
     "execution_count": 24,
     "metadata": {},
     "output_type": "execute_result"
    }
   ],
   "source": [
    "#SEARCH WHERE AGE = X, AND SEX = M/F\n",
    "df_n = df.loc[df['Age'] > 61] [df['Sex'] == 'm']\n",
    "\n",
    "df_n.head()"
   ]
  },
  {
   "cell_type": "code",
   "execution_count": 22,
   "metadata": {},
   "outputs": [
    {
     "data": {
      "text/plain": [
       "Age    37.841365\n",
       "dtype: float64"
      ]
     },
     "execution_count": 22,
     "metadata": {},
     "output_type": "execute_result"
    }
   ],
   "source": [
    "# AVERAGE OVERALL AGE\n",
    "\n",
    "#date_range = df.loc[df['Juvenile'] == 'Yes']\n",
    "#data = df.loc[['State'], age]\n",
    "age_df = df.loc[df['Age']]\n",
    "age_df.mean()\n"
   ]
  },
  {
   "cell_type": "code",
   "execution_count": 20,
   "metadata": {},
   "outputs": [
    {
     "data": {
      "text/plain": [
       "Date                      12/18/1986\n",
       "Name                  Yosvanis Valle\n",
       "Age                               67\n",
       "Sex                                m\n",
       "Race                           White\n",
       "Victim_Race_Sex      4 White Male(s)\n",
       "State                             TX\n",
       "Region                             S\n",
       "Method              Lethal Injection\n",
       "Juvenile                         Yes\n",
       "Federal                           No\n",
       "Volunteer                        Yes\n",
       "Foreign National                 Yes\n",
       "County                          Wood\n",
       "dtype: object"
      ]
     },
     "execution_count": 20,
     "metadata": {},
     "output_type": "execute_result"
    }
   ],
   "source": [
    "#THE OLDEST PERSON EXECUTED IN TEXAS WAS\n",
    "\n",
    "tx_df = df.loc[df['State']=='TX']\n",
    "tx_df.max()"
   ]
  },
  {
   "cell_type": "code",
   "execution_count": 42,
   "metadata": {},
   "outputs": [
    {
     "data": {
      "text/plain": [
       "Text(0.5, 1.0, 'AGE OF EXECUTED PEOPLE IN TEXAS')"
      ]
     },
     "execution_count": 42,
     "metadata": {},
     "output_type": "execute_result"
    },
    {
     "data": {
      "image/png": "[encoded data removed]",
      "text/plain": [
       "<Figure size 432x288 with 1 Axes>"
      ]
     },
     "metadata": {
      "needs_background": "light"
     },
     "output_type": "display_data"
    }
   ],
   "source": [
    "tx_df.plot.hist(bins = 20)\n",
    "plt.title('AGE OF EXECUTED PEOPLE IN TEXAS')"
   ]
  },
  {
   "cell_type": "code",
   "execution_count": 23,
   "metadata": {},
   "outputs": [
    {
     "data": {
      "text/plain": [
       "Date                       01/04/1995\n",
       "Name                      Aaron Foust\n",
       "Age                                24\n",
       "Sex                                 f\n",
       "Race                            Asian\n",
       "Victim_Race_Sex     1 Asian Female(s)\n",
       "State                              TX\n",
       "Region                              S\n",
       "Method               Lethal Injection\n",
       "Juvenile                           No\n",
       "Federal                            No\n",
       "Volunteer                          No\n",
       "Foreign National                   No\n",
       "County                       Anderson\n",
       "dtype: object"
      ]
     },
     "execution_count": 23,
     "metadata": {},
     "output_type": "execute_result"
    }
   ],
   "source": [
    "#THE YOUNGEST PERSON EXECUTED IN TEXAS WAS\n",
    "\n",
    "tx_df = df.loc[df['State']=='TX']\n",
    "tx_df.min()"
   ]
  },
  {
   "cell_type": "code",
   "execution_count": 10,
   "metadata": {},
   "outputs": [
    {
     "data": {
      "text/html": [
       "<div>\n",
       "<style scoped>\n",
       "    .dataframe tbody tr th:only-of-type {\n",
       "        vertical-align: middle;\n",
       "    }\n",
       "\n",
       "    .dataframe tbody tr th {\n",
       "        vertical-align: top;\n",
       "    }\n",
       "\n",
       "    .dataframe thead th {\n",
       "        text-align: right;\n",
       "    }\n",
       "</style>\n",
       "<table border=\"1\" class=\"dataframe\">\n",
       "  <thead>\n",
       "    <tr style=\"text-align: right;\">\n",
       "      <th></th>\n",
       "      <th>Date</th>\n",
       "      <th>Name</th>\n",
       "      <th>Age</th>\n",
       "      <th>Sex</th>\n",
       "      <th>Race</th>\n",
       "      <th>Victim_Race_Sex</th>\n",
       "      <th>State</th>\n",
       "      <th>Region</th>\n",
       "      <th>Method</th>\n",
       "      <th>Juvenile</th>\n",
       "      <th>Federal</th>\n",
       "      <th>Volunteer</th>\n",
       "      <th>Foreign National</th>\n",
       "      <th>County</th>\n",
       "    </tr>\n",
       "  </thead>\n",
       "  <tbody>\n",
       "    <tr>\n",
       "      <th>8</th>\n",
       "      <td>01/04/1985</td>\n",
       "      <td>David Martin</td>\n",
       "      <td>32</td>\n",
       "      <td>m</td>\n",
       "      <td>White</td>\n",
       "      <td>2 White Male(s)2 White Female(s)</td>\n",
       "      <td>LA</td>\n",
       "      <td>S</td>\n",
       "      <td>Electrocution</td>\n",
       "      <td>No</td>\n",
       "      <td>No</td>\n",
       "      <td>No</td>\n",
       "      <td>No</td>\n",
       "      <td>Lafourche Parish</td>\n",
       "    </tr>\n",
       "    <tr>\n",
       "      <th>23</th>\n",
       "      <td>01/08/1999</td>\n",
       "      <td>Dobie Williams</td>\n",
       "      <td>38</td>\n",
       "      <td>m</td>\n",
       "      <td>Black</td>\n",
       "      <td>1 White Female(s)</td>\n",
       "      <td>LA</td>\n",
       "      <td>S</td>\n",
       "      <td>Lethal Injection</td>\n",
       "      <td>No</td>\n",
       "      <td>No</td>\n",
       "      <td>No</td>\n",
       "      <td>No</td>\n",
       "      <td>Sabine Parish</td>\n",
       "    </tr>\n",
       "    <tr>\n",
       "      <th>66</th>\n",
       "      <td>03/05/1993</td>\n",
       "      <td>Robert Sawyer</td>\n",
       "      <td>41</td>\n",
       "      <td>m</td>\n",
       "      <td>White</td>\n",
       "      <td>1 White Female(s)</td>\n",
       "      <td>LA</td>\n",
       "      <td>S</td>\n",
       "      <td>Lethal Injection</td>\n",
       "      <td>No</td>\n",
       "      <td>No</td>\n",
       "      <td>No</td>\n",
       "      <td>No</td>\n",
       "      <td>Jefferson Parish</td>\n",
       "    </tr>\n",
       "    <tr>\n",
       "      <th>68</th>\n",
       "      <td>03/01/1996</td>\n",
       "      <td>Antonio James</td>\n",
       "      <td>42</td>\n",
       "      <td>m</td>\n",
       "      <td>Black</td>\n",
       "      <td>1 White Male(s)</td>\n",
       "      <td>LA</td>\n",
       "      <td>S</td>\n",
       "      <td>Lethal Injection</td>\n",
       "      <td>No</td>\n",
       "      <td>No</td>\n",
       "      <td>No</td>\n",
       "      <td>No</td>\n",
       "      <td>Orleans Parish</td>\n",
       "    </tr>\n",
       "    <tr>\n",
       "      <th>79</th>\n",
       "      <td>04/05/1984</td>\n",
       "      <td>Elmo Sonnier</td>\n",
       "      <td>35</td>\n",
       "      <td>m</td>\n",
       "      <td>White</td>\n",
       "      <td>1 White Male(s)1 White Female(s)</td>\n",
       "      <td>LA</td>\n",
       "      <td>S</td>\n",
       "      <td>Electrocution</td>\n",
       "      <td>No</td>\n",
       "      <td>No</td>\n",
       "      <td>No</td>\n",
       "      <td>No</td>\n",
       "      <td>Iberia Parish</td>\n",
       "    </tr>\n",
       "  </tbody>\n",
       "</table>\n",
       "</div>"
      ],
      "text/plain": [
       "          Date            Name  Age Sex   Race  \\\n",
       "8   01/04/1985    David Martin   32   m  White   \n",
       "23  01/08/1999  Dobie Williams   38   m  Black   \n",
       "66  03/05/1993   Robert Sawyer   41   m  White   \n",
       "68  03/01/1996   Antonio James   42   m  Black   \n",
       "79  04/05/1984    Elmo Sonnier   35   m  White   \n",
       "\n",
       "                     Victim_Race_Sex State Region            Method Juvenile  \\\n",
       "8   2 White Male(s)2 White Female(s)    LA      S     Electrocution       No   \n",
       "23                 1 White Female(s)    LA      S  Lethal Injection       No   \n",
       "66                 1 White Female(s)    LA      S  Lethal Injection       No   \n",
       "68                   1 White Male(s)    LA      S  Lethal Injection       No   \n",
       "79  1 White Male(s)1 White Female(s)    LA      S     Electrocution       No   \n",
       "\n",
       "   Federal Volunteer Foreign National            County  \n",
       "8       No        No               No  Lafourche Parish  \n",
       "23      No        No               No     Sabine Parish  \n",
       "66      No        No               No  Jefferson Parish  \n",
       "68      No        No               No    Orleans Parish  \n",
       "79      No        No               No     Iberia Parish  "
      ]
     },
     "execution_count": 10,
     "metadata": {},
     "output_type": "execute_result"
    }
   ],
   "source": [
    "date_range = df.loc[df['State'] == 'LA']\n",
    "date_range.head()"
   ]
  },
  {
   "cell_type": "code",
   "execution_count": 28,
   "metadata": {},
   "outputs": [
    {
     "data": {
      "text/plain": [
       "Text(0.5, 0, 'BY STATE')"
      ]
     },
     "execution_count": 28,
     "metadata": {},
     "output_type": "execute_result"
    },
    {
     "data": {
      "image/png": "[encoded data removed]",
      "text/plain": [
       "<Figure size 720x360 with 1 Axes>"
      ]
     },
     "metadata": {
      "needs_background": "light"
     },
     "output_type": "display_data"
    }
   ],
   "source": [
    "ax = df.plot(kind='area', alpha=0.35, figsize=(10, 5))\n",
    "\n",
    "ax.set_title('EXECUTION AGE AVG')\n",
    "ax.set_ylabel('AGE')\n",
    "ax.set_xlabel('BY STATE')"
   ]
  },
  {
   "cell_type": "code",
   "execution_count": 70,
   "metadata": {},
   "outputs": [
    {
     "data": {
      "image/png": "[encoded data removed]",
      "text/plain": [
       "<Figure size 720x432 with 1 Axes>"
      ]
     },
     "metadata": {
      "needs_background": "light"
     },
     "output_type": "display_data"
    }
   ],
   "source": [
    "df.plot(kind='bar', figsize=(10, 6))\n",
    "\n",
    "plt.xlabel('STATE') # add to x-label to the plot\n",
    "plt.ylabel('AGE') # add y-label to the plot\n",
    "plt.title('Executions by state') # add title to the plot\n",
    "\n",
    "plt.show()"
   ]
  },
  {
   "cell_type": "code",
   "execution_count": null,
   "metadata": {},
   "outputs": [],
   "source": []
  }
 ],
 "metadata": {
  "kernelspec": {
   "display_name": "Python 3",
   "language": "python",
   "name": "python3"
  },
  "language_info": {
   "codemirror_mode": {
    "name": "ipython",
    "version": 3
   },
   "file_extension": ".py",
   "mimetype": "text/x-python",
   "name": "python",
   "nbconvert_exporter": "python",
   "pygments_lexer": "ipython3",
   "version": "3.7.1"
  }
 },
 "nbformat": 4,
 "nbformat_minor": 2
}
